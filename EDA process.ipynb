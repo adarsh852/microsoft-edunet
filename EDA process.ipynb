{
 "cells": [
  {
   "cell_type": "code",
   "execution_count": 25,
   "id": "d2bb2041",
   "metadata": {},
   "outputs": [],
   "source": [
    "import numpy as np\n",
    "import pandas as pd\n",
    "import matplotlib.pyplot as plt \n",
    "import seaborn as sns\n",
    "#import geopandas as gpd\n",
    "\n",
    "import warnings\n",
    "warnings.filterwarnings('ignore')\n",
    "sns.set()\n"
   ]
  },
  {
   "cell_type": "code",
   "execution_count": 26,
   "id": "3430f44b",
   "metadata": {},
   "outputs": [],
   "source": [
    "dataset=pd.read_csv('global-plastics-production.csv')"
   ]
  },
  {
   "cell_type": "code",
   "execution_count": 27,
   "id": "fe39c462",
   "metadata": {},
   "outputs": [
    {
     "name": "stdout",
     "output_type": "stream",
     "text": [
      "<class 'pandas.core.frame.DataFrame'>\n",
      "RangeIndex: 66 entries, 0 to 65\n",
      "Data columns (total 4 columns):\n",
      " #   Column                                       Non-Null Count  Dtype \n",
      "---  ------                                       --------------  ----- \n",
      " 0   Entity                                       66 non-null     object\n",
      " 1   Code                                         66 non-null     object\n",
      " 2   Year                                         66 non-null     int64 \n",
      " 3   Global plastics production (million tonnes)  66 non-null     int64 \n",
      "dtypes: int64(2), object(2)\n",
      "memory usage: 2.2+ KB\n"
     ]
    }
   ],
   "source": [
    "dataset.info()"
   ]
  },
  {
   "cell_type": "code",
   "execution_count": 28,
   "id": "c567b12c",
   "metadata": {},
   "outputs": [],
   "source": [
    "mwgt = pd.read_csv(\"mismanaged-waste-global-total.csv\")"
   ]
  },
  {
   "cell_type": "code",
   "execution_count": 29,
   "id": "df5f6b0a",
   "metadata": {},
   "outputs": [
    {
     "name": "stdout",
     "output_type": "stream",
     "text": [
      "<class 'pandas.core.frame.DataFrame'>\n",
      "RangeIndex: 186 entries, 0 to 185\n",
      "Data columns (total 4 columns):\n",
      " #   Column                             Non-Null Count  Dtype  \n",
      "---  ------                             --------------  -----  \n",
      " 0   Entity                             186 non-null    object \n",
      " 1   Code                               186 non-null    object \n",
      " 2   Year                               186 non-null    int64  \n",
      " 3   Mismanaged waste (% global total)  186 non-null    float64\n",
      "dtypes: float64(1), int64(1), object(2)\n",
      "memory usage: 5.9+ KB\n"
     ]
    }
   ],
   "source": [
    "mwgt.info()"
   ]
  },
  {
   "cell_type": "code",
   "execution_count": 30,
   "id": "2930d4d2",
   "metadata": {},
   "outputs": [],
   "source": [
    "mpw_gdp = pd.read_csv(\"per-capita-mismanaged-plastic-waste-vs-gdp-per-capita.csv\")"
   ]
  },
  {
   "cell_type": "code",
   "execution_count": 31,
   "id": "e213c04d",
   "metadata": {},
   "outputs": [
    {
     "name": "stdout",
     "output_type": "stream",
     "text": [
      "<class 'pandas.core.frame.DataFrame'>\n",
      "RangeIndex: 48168 entries, 0 to 48167\n",
      "Data columns (total 7 columns):\n",
      " #   Column                                               Non-Null Count  Dtype  \n",
      "---  ------                                               --------------  -----  \n",
      " 0   Entity                                               48168 non-null  object \n",
      " 1   Code                                                 46154 non-null  object \n",
      " 2   Year                                                 48168 non-null  int64  \n",
      " 3   Per capita mismanaged plastic waste                  186 non-null    float64\n",
      " 4   GDP per capita, PPP (constant 2011 international $)  6407 non-null   float64\n",
      " 5   Total population (Gapminder, HYDE & UN)              46883 non-null  float64\n",
      " 6   Continent                                            285 non-null    object \n",
      "dtypes: float64(3), int64(1), object(3)\n",
      "memory usage: 2.6+ MB\n"
     ]
    }
   ],
   "source": [
    "mpw_gdp.info()"
   ]
  },
  {
   "cell_type": "code",
   "execution_count": 32,
   "id": "539d5f7b",
   "metadata": {},
   "outputs": [],
   "source": [
    "pcpw_gdp = pd.read_csv(\"per-capita-plastic-waste-vs-gdp-per-capita.csv\")"
   ]
  },
  {
   "cell_type": "code",
   "execution_count": 33,
   "id": "84e6c067",
   "metadata": {},
   "outputs": [
    {
     "name": "stdout",
     "output_type": "stream",
     "text": [
      "<class 'pandas.core.frame.DataFrame'>\n",
      "RangeIndex: 48168 entries, 0 to 48167\n",
      "Data columns (total 7 columns):\n",
      " #   Column                                               Non-Null Count  Dtype  \n",
      "---  ------                                               --------------  -----  \n",
      " 0   Entity                                               48168 non-null  object \n",
      " 1   Code                                                 46154 non-null  object \n",
      " 2   Year                                                 48168 non-null  int64  \n",
      " 3   Per capita plastic waste (kg/person/day)             186 non-null    float64\n",
      " 4   GDP per capita, PPP (constant 2011 international $)  6407 non-null   float64\n",
      " 5   Total population (Gapminder, HYDE & UN)              46883 non-null  float64\n",
      " 6   Continent                                            285 non-null    object \n",
      "dtypes: float64(3), int64(1), object(3)\n",
      "memory usage: 2.6+ MB\n"
     ]
    }
   ],
   "source": [
    "pcpw_gdp.info()"
   ]
  },
  {
   "cell_type": "code",
   "execution_count": 34,
   "id": "809e5ab6",
   "metadata": {},
   "outputs": [],
   "source": [
    "pwpc = pd.read_csv(\"plastic-waste-per-capita.csv\")"
   ]
  },
  {
   "cell_type": "code",
   "execution_count": 35,
   "id": "44888a90",
   "metadata": {},
   "outputs": [
    {
     "name": "stdout",
     "output_type": "stream",
     "text": [
      "<class 'pandas.core.frame.DataFrame'>\n",
      "RangeIndex: 186 entries, 0 to 185\n",
      "Data columns (total 4 columns):\n",
      " #   Column                                    Non-Null Count  Dtype  \n",
      "---  ------                                    --------------  -----  \n",
      " 0   Entity                                    186 non-null    object \n",
      " 1   Code                                      186 non-null    object \n",
      " 2   Year                                      186 non-null    int64  \n",
      " 3   Per capita plastic waste (kg/person/day)  186 non-null    float64\n",
      "dtypes: float64(1), int64(1), object(2)\n",
      "memory usage: 5.9+ KB\n"
     ]
    }
   ],
   "source": [
    "pwpc.info()"
   ]
  },
  {
   "cell_type": "code",
   "execution_count": 36,
   "id": "f9adfb08",
   "metadata": {},
   "outputs": [
    {
     "data": {
      "text/html": [
       "<div>\n",
       "<style scoped>\n",
       "    .dataframe tbody tr th:only-of-type {\n",
       "        vertical-align: middle;\n",
       "    }\n",
       "\n",
       "    .dataframe tbody tr th {\n",
       "        vertical-align: top;\n",
       "    }\n",
       "\n",
       "    .dataframe thead th {\n",
       "        text-align: right;\n",
       "    }\n",
       "</style>\n",
       "<table border=\"1\" class=\"dataframe\">\n",
       "  <thead>\n",
       "    <tr style=\"text-align: right;\">\n",
       "      <th></th>\n",
       "      <th>Year</th>\n",
       "      <th>Global plastics production (million tonnes)</th>\n",
       "    </tr>\n",
       "  </thead>\n",
       "  <tbody>\n",
       "    <tr>\n",
       "      <th>count</th>\n",
       "      <td>66.000000</td>\n",
       "      <td>6.600000e+01</td>\n",
       "    </tr>\n",
       "    <tr>\n",
       "      <th>mean</th>\n",
       "      <td>1982.500000</td>\n",
       "      <td>1.185303e+08</td>\n",
       "    </tr>\n",
       "    <tr>\n",
       "      <th>std</th>\n",
       "      <td>19.196354</td>\n",
       "      <td>1.126182e+08</td>\n",
       "    </tr>\n",
       "    <tr>\n",
       "      <th>min</th>\n",
       "      <td>1950.000000</td>\n",
       "      <td>2.000000e+06</td>\n",
       "    </tr>\n",
       "    <tr>\n",
       "      <th>25%</th>\n",
       "      <td>1966.250000</td>\n",
       "      <td>2.075000e+07</td>\n",
       "    </tr>\n",
       "    <tr>\n",
       "      <th>50%</th>\n",
       "      <td>1982.500000</td>\n",
       "      <td>7.650000e+07</td>\n",
       "    </tr>\n",
       "    <tr>\n",
       "      <th>75%</th>\n",
       "      <td>1998.750000</td>\n",
       "      <td>1.985000e+08</td>\n",
       "    </tr>\n",
       "    <tr>\n",
       "      <th>max</th>\n",
       "      <td>2015.000000</td>\n",
       "      <td>3.810000e+08</td>\n",
       "    </tr>\n",
       "  </tbody>\n",
       "</table>\n",
       "</div>"
      ],
      "text/plain": [
       "              Year  Global plastics production (million tonnes)\n",
       "count    66.000000                                 6.600000e+01\n",
       "mean   1982.500000                                 1.185303e+08\n",
       "std      19.196354                                 1.126182e+08\n",
       "min    1950.000000                                 2.000000e+06\n",
       "25%    1966.250000                                 2.075000e+07\n",
       "50%    1982.500000                                 7.650000e+07\n",
       "75%    1998.750000                                 1.985000e+08\n",
       "max    2015.000000                                 3.810000e+08"
      ]
     },
     "execution_count": 36,
     "metadata": {},
     "output_type": "execute_result"
    }
   ],
   "source": [
    "dataset.describe()"
   ]
  },
  {
   "cell_type": "code",
   "execution_count": 37,
   "id": "8bf6dc9a",
   "metadata": {},
   "outputs": [
    {
     "data": {
      "text/html": [
       "<div>\n",
       "<style scoped>\n",
       "    .dataframe tbody tr th:only-of-type {\n",
       "        vertical-align: middle;\n",
       "    }\n",
       "\n",
       "    .dataframe tbody tr th {\n",
       "        vertical-align: top;\n",
       "    }\n",
       "\n",
       "    .dataframe thead th {\n",
       "        text-align: right;\n",
       "    }\n",
       "</style>\n",
       "<table border=\"1\" class=\"dataframe\">\n",
       "  <thead>\n",
       "    <tr style=\"text-align: right;\">\n",
       "      <th></th>\n",
       "      <th>Year</th>\n",
       "      <th>Mismanaged waste (% global total)</th>\n",
       "    </tr>\n",
       "  </thead>\n",
       "  <tbody>\n",
       "    <tr>\n",
       "      <th>count</th>\n",
       "      <td>186.0</td>\n",
       "      <td>186.000000</td>\n",
       "    </tr>\n",
       "    <tr>\n",
       "      <th>mean</th>\n",
       "      <td>2010.0</td>\n",
       "      <td>0.537634</td>\n",
       "    </tr>\n",
       "    <tr>\n",
       "      <th>std</th>\n",
       "      <td>0.0</td>\n",
       "      <td>2.298779</td>\n",
       "    </tr>\n",
       "    <tr>\n",
       "      <th>min</th>\n",
       "      <td>2010.0</td>\n",
       "      <td>0.000000</td>\n",
       "    </tr>\n",
       "    <tr>\n",
       "      <th>25%</th>\n",
       "      <td>2010.0</td>\n",
       "      <td>0.006850</td>\n",
       "    </tr>\n",
       "    <tr>\n",
       "      <th>50%</th>\n",
       "      <td>2010.0</td>\n",
       "      <td>0.050200</td>\n",
       "    </tr>\n",
       "    <tr>\n",
       "      <th>75%</th>\n",
       "      <td>2010.0</td>\n",
       "      <td>0.208175</td>\n",
       "    </tr>\n",
       "    <tr>\n",
       "      <th>max</th>\n",
       "      <td>2010.0</td>\n",
       "      <td>27.696600</td>\n",
       "    </tr>\n",
       "  </tbody>\n",
       "</table>\n",
       "</div>"
      ],
      "text/plain": [
       "         Year  Mismanaged waste (% global total)\n",
       "count   186.0                         186.000000\n",
       "mean   2010.0                           0.537634\n",
       "std       0.0                           2.298779\n",
       "min    2010.0                           0.000000\n",
       "25%    2010.0                           0.006850\n",
       "50%    2010.0                           0.050200\n",
       "75%    2010.0                           0.208175\n",
       "max    2010.0                          27.696600"
      ]
     },
     "execution_count": 37,
     "metadata": {},
     "output_type": "execute_result"
    }
   ],
   "source": [
    "mwgt.describe()"
   ]
  },
  {
   "cell_type": "code",
   "execution_count": 38,
   "id": "fef4a24a",
   "metadata": {},
   "outputs": [
    {
     "data": {
      "text/html": [
       "<div>\n",
       "<style scoped>\n",
       "    .dataframe tbody tr th:only-of-type {\n",
       "        vertical-align: middle;\n",
       "    }\n",
       "\n",
       "    .dataframe tbody tr th {\n",
       "        vertical-align: top;\n",
       "    }\n",
       "\n",
       "    .dataframe thead th {\n",
       "        text-align: right;\n",
       "    }\n",
       "</style>\n",
       "<table border=\"1\" class=\"dataframe\">\n",
       "  <thead>\n",
       "    <tr style=\"text-align: right;\">\n",
       "      <th></th>\n",
       "      <th>Year</th>\n",
       "      <th>Per capita mismanaged plastic waste</th>\n",
       "      <th>GDP per capita, PPP (constant 2011 international $)</th>\n",
       "      <th>Total population (Gapminder, HYDE &amp; UN)</th>\n",
       "    </tr>\n",
       "  </thead>\n",
       "  <tbody>\n",
       "    <tr>\n",
       "      <th>count</th>\n",
       "      <td>48168.000000</td>\n",
       "      <td>186.000000</td>\n",
       "      <td>6407.000000</td>\n",
       "      <td>4.688300e+04</td>\n",
       "    </tr>\n",
       "    <tr>\n",
       "      <th>mean</th>\n",
       "      <td>1903.147442</td>\n",
       "      <td>0.045226</td>\n",
       "      <td>14926.095591</td>\n",
       "      <td>2.982790e+07</td>\n",
       "    </tr>\n",
       "    <tr>\n",
       "      <th>std</th>\n",
       "      <td>315.716839</td>\n",
       "      <td>0.050077</td>\n",
       "      <td>17739.754531</td>\n",
       "      <td>2.530860e+08</td>\n",
       "    </tr>\n",
       "    <tr>\n",
       "      <th>min</th>\n",
       "      <td>-10000.000000</td>\n",
       "      <td>0.001000</td>\n",
       "      <td>247.436540</td>\n",
       "      <td>9.050000e+02</td>\n",
       "    </tr>\n",
       "    <tr>\n",
       "      <th>25%</th>\n",
       "      <td>1859.000000</td>\n",
       "      <td>0.006000</td>\n",
       "      <td>3021.071807</td>\n",
       "      <td>2.017335e+05</td>\n",
       "    </tr>\n",
       "    <tr>\n",
       "      <th>50%</th>\n",
       "      <td>1920.000000</td>\n",
       "      <td>0.032000</td>\n",
       "      <td>8447.264179</td>\n",
       "      <td>1.542937e+06</td>\n",
       "    </tr>\n",
       "    <tr>\n",
       "      <th>75%</th>\n",
       "      <td>1975.000000</td>\n",
       "      <td>0.066000</td>\n",
       "      <td>19607.537075</td>\n",
       "      <td>5.886795e+06</td>\n",
       "    </tr>\n",
       "    <tr>\n",
       "      <th>max</th>\n",
       "      <td>2019.000000</td>\n",
       "      <td>0.299000</td>\n",
       "      <td>135318.754421</td>\n",
       "      <td>7.713468e+09</td>\n",
       "    </tr>\n",
       "  </tbody>\n",
       "</table>\n",
       "</div>"
      ],
      "text/plain": [
       "               Year  Per capita mismanaged plastic waste  \\\n",
       "count  48168.000000                           186.000000   \n",
       "mean    1903.147442                             0.045226   \n",
       "std      315.716839                             0.050077   \n",
       "min   -10000.000000                             0.001000   \n",
       "25%     1859.000000                             0.006000   \n",
       "50%     1920.000000                             0.032000   \n",
       "75%     1975.000000                             0.066000   \n",
       "max     2019.000000                             0.299000   \n",
       "\n",
       "       GDP per capita, PPP (constant 2011 international $)  \\\n",
       "count                                        6407.000000     \n",
       "mean                                        14926.095591     \n",
       "std                                         17739.754531     \n",
       "min                                           247.436540     \n",
       "25%                                          3021.071807     \n",
       "50%                                          8447.264179     \n",
       "75%                                         19607.537075     \n",
       "max                                        135318.754421     \n",
       "\n",
       "       Total population (Gapminder, HYDE & UN)  \n",
       "count                             4.688300e+04  \n",
       "mean                              2.982790e+07  \n",
       "std                               2.530860e+08  \n",
       "min                               9.050000e+02  \n",
       "25%                               2.017335e+05  \n",
       "50%                               1.542937e+06  \n",
       "75%                               5.886795e+06  \n",
       "max                               7.713468e+09  "
      ]
     },
     "execution_count": 38,
     "metadata": {},
     "output_type": "execute_result"
    }
   ],
   "source": [
    "mpw_gdp.describe()"
   ]
  },
  {
   "cell_type": "code",
   "execution_count": 39,
   "id": "d326f657",
   "metadata": {},
   "outputs": [
    {
     "data": {
      "text/html": [
       "<div>\n",
       "<style scoped>\n",
       "    .dataframe tbody tr th:only-of-type {\n",
       "        vertical-align: middle;\n",
       "    }\n",
       "\n",
       "    .dataframe tbody tr th {\n",
       "        vertical-align: top;\n",
       "    }\n",
       "\n",
       "    .dataframe thead th {\n",
       "        text-align: right;\n",
       "    }\n",
       "</style>\n",
       "<table border=\"1\" class=\"dataframe\">\n",
       "  <thead>\n",
       "    <tr style=\"text-align: right;\">\n",
       "      <th></th>\n",
       "      <th>Year</th>\n",
       "      <th>Per capita plastic waste (kg/person/day)</th>\n",
       "      <th>GDP per capita, PPP (constant 2011 international $)</th>\n",
       "      <th>Total population (Gapminder, HYDE &amp; UN)</th>\n",
       "    </tr>\n",
       "  </thead>\n",
       "  <tbody>\n",
       "    <tr>\n",
       "      <th>count</th>\n",
       "      <td>48168.000000</td>\n",
       "      <td>186.000000</td>\n",
       "      <td>6407.000000</td>\n",
       "      <td>4.688300e+04</td>\n",
       "    </tr>\n",
       "    <tr>\n",
       "      <th>mean</th>\n",
       "      <td>1903.147442</td>\n",
       "      <td>0.179812</td>\n",
       "      <td>14926.095591</td>\n",
       "      <td>2.982790e+07</td>\n",
       "    </tr>\n",
       "    <tr>\n",
       "      <th>std</th>\n",
       "      <td>315.716839</td>\n",
       "      <td>0.123006</td>\n",
       "      <td>17739.754531</td>\n",
       "      <td>2.530860e+08</td>\n",
       "    </tr>\n",
       "    <tr>\n",
       "      <th>min</th>\n",
       "      <td>-10000.000000</td>\n",
       "      <td>0.010000</td>\n",
       "      <td>247.436540</td>\n",
       "      <td>9.050000e+02</td>\n",
       "    </tr>\n",
       "    <tr>\n",
       "      <th>25%</th>\n",
       "      <td>1859.000000</td>\n",
       "      <td>0.103000</td>\n",
       "      <td>3021.071807</td>\n",
       "      <td>2.017335e+05</td>\n",
       "    </tr>\n",
       "    <tr>\n",
       "      <th>50%</th>\n",
       "      <td>1920.000000</td>\n",
       "      <td>0.144000</td>\n",
       "      <td>8447.264179</td>\n",
       "      <td>1.542937e+06</td>\n",
       "    </tr>\n",
       "    <tr>\n",
       "      <th>75%</th>\n",
       "      <td>1975.000000</td>\n",
       "      <td>0.252000</td>\n",
       "      <td>19607.537075</td>\n",
       "      <td>5.886795e+06</td>\n",
       "    </tr>\n",
       "    <tr>\n",
       "      <th>max</th>\n",
       "      <td>2019.000000</td>\n",
       "      <td>0.686000</td>\n",
       "      <td>135318.754421</td>\n",
       "      <td>7.713468e+09</td>\n",
       "    </tr>\n",
       "  </tbody>\n",
       "</table>\n",
       "</div>"
      ],
      "text/plain": [
       "               Year  Per capita plastic waste (kg/person/day)  \\\n",
       "count  48168.000000                                186.000000   \n",
       "mean    1903.147442                                  0.179812   \n",
       "std      315.716839                                  0.123006   \n",
       "min   -10000.000000                                  0.010000   \n",
       "25%     1859.000000                                  0.103000   \n",
       "50%     1920.000000                                  0.144000   \n",
       "75%     1975.000000                                  0.252000   \n",
       "max     2019.000000                                  0.686000   \n",
       "\n",
       "       GDP per capita, PPP (constant 2011 international $)  \\\n",
       "count                                        6407.000000     \n",
       "mean                                        14926.095591     \n",
       "std                                         17739.754531     \n",
       "min                                           247.436540     \n",
       "25%                                          3021.071807     \n",
       "50%                                          8447.264179     \n",
       "75%                                         19607.537075     \n",
       "max                                        135318.754421     \n",
       "\n",
       "       Total population (Gapminder, HYDE & UN)  \n",
       "count                             4.688300e+04  \n",
       "mean                              2.982790e+07  \n",
       "std                               2.530860e+08  \n",
       "min                               9.050000e+02  \n",
       "25%                               2.017335e+05  \n",
       "50%                               1.542937e+06  \n",
       "75%                               5.886795e+06  \n",
       "max                               7.713468e+09  "
      ]
     },
     "execution_count": 39,
     "metadata": {},
     "output_type": "execute_result"
    }
   ],
   "source": [
    "pcpw_gdp.describe()"
   ]
  },
  {
   "cell_type": "code",
   "execution_count": 40,
   "id": "60c9f44c",
   "metadata": {},
   "outputs": [
    {
     "data": {
      "text/html": [
       "<div>\n",
       "<style scoped>\n",
       "    .dataframe tbody tr th:only-of-type {\n",
       "        vertical-align: middle;\n",
       "    }\n",
       "\n",
       "    .dataframe tbody tr th {\n",
       "        vertical-align: top;\n",
       "    }\n",
       "\n",
       "    .dataframe thead th {\n",
       "        text-align: right;\n",
       "    }\n",
       "</style>\n",
       "<table border=\"1\" class=\"dataframe\">\n",
       "  <thead>\n",
       "    <tr style=\"text-align: right;\">\n",
       "      <th></th>\n",
       "      <th>Year</th>\n",
       "      <th>Per capita plastic waste (kg/person/day)</th>\n",
       "    </tr>\n",
       "  </thead>\n",
       "  <tbody>\n",
       "    <tr>\n",
       "      <th>count</th>\n",
       "      <td>186.0</td>\n",
       "      <td>186.000000</td>\n",
       "    </tr>\n",
       "    <tr>\n",
       "      <th>mean</th>\n",
       "      <td>2010.0</td>\n",
       "      <td>0.179812</td>\n",
       "    </tr>\n",
       "    <tr>\n",
       "      <th>std</th>\n",
       "      <td>0.0</td>\n",
       "      <td>0.123006</td>\n",
       "    </tr>\n",
       "    <tr>\n",
       "      <th>min</th>\n",
       "      <td>2010.0</td>\n",
       "      <td>0.010000</td>\n",
       "    </tr>\n",
       "    <tr>\n",
       "      <th>25%</th>\n",
       "      <td>2010.0</td>\n",
       "      <td>0.103000</td>\n",
       "    </tr>\n",
       "    <tr>\n",
       "      <th>50%</th>\n",
       "      <td>2010.0</td>\n",
       "      <td>0.144000</td>\n",
       "    </tr>\n",
       "    <tr>\n",
       "      <th>75%</th>\n",
       "      <td>2010.0</td>\n",
       "      <td>0.252000</td>\n",
       "    </tr>\n",
       "    <tr>\n",
       "      <th>max</th>\n",
       "      <td>2010.0</td>\n",
       "      <td>0.686000</td>\n",
       "    </tr>\n",
       "  </tbody>\n",
       "</table>\n",
       "</div>"
      ],
      "text/plain": [
       "         Year  Per capita plastic waste (kg/person/day)\n",
       "count   186.0                                186.000000\n",
       "mean   2010.0                                  0.179812\n",
       "std       0.0                                  0.123006\n",
       "min    2010.0                                  0.010000\n",
       "25%    2010.0                                  0.103000\n",
       "50%    2010.0                                  0.144000\n",
       "75%    2010.0                                  0.252000\n",
       "max    2010.0                                  0.686000"
      ]
     },
     "execution_count": 40,
     "metadata": {},
     "output_type": "execute_result"
    }
   ],
   "source": [
    "pwpc.describe()"
   ]
  },
  {
   "cell_type": "code",
   "execution_count": 41,
   "id": "05bf8f24",
   "metadata": {},
   "outputs": [
    {
     "data": {
      "text/html": [
       "<div>\n",
       "<style scoped>\n",
       "    .dataframe tbody tr th:only-of-type {\n",
       "        vertical-align: middle;\n",
       "    }\n",
       "\n",
       "    .dataframe tbody tr th {\n",
       "        vertical-align: top;\n",
       "    }\n",
       "\n",
       "    .dataframe thead th {\n",
       "        text-align: right;\n",
       "    }\n",
       "</style>\n",
       "<table border=\"1\" class=\"dataframe\">\n",
       "  <thead>\n",
       "    <tr style=\"text-align: right;\">\n",
       "      <th></th>\n",
       "      <th>Entity</th>\n",
       "      <th>Code</th>\n",
       "    </tr>\n",
       "  </thead>\n",
       "  <tbody>\n",
       "    <tr>\n",
       "      <th>count</th>\n",
       "      <td>66</td>\n",
       "      <td>66</td>\n",
       "    </tr>\n",
       "    <tr>\n",
       "      <th>unique</th>\n",
       "      <td>1</td>\n",
       "      <td>1</td>\n",
       "    </tr>\n",
       "    <tr>\n",
       "      <th>top</th>\n",
       "      <td>World</td>\n",
       "      <td>OWID_WRL</td>\n",
       "    </tr>\n",
       "    <tr>\n",
       "      <th>freq</th>\n",
       "      <td>66</td>\n",
       "      <td>66</td>\n",
       "    </tr>\n",
       "  </tbody>\n",
       "</table>\n",
       "</div>"
      ],
      "text/plain": [
       "       Entity      Code\n",
       "count      66        66\n",
       "unique      1         1\n",
       "top     World  OWID_WRL\n",
       "freq       66        66"
      ]
     },
     "execution_count": 41,
     "metadata": {},
     "output_type": "execute_result"
    }
   ],
   "source": [
    "dataset.describe(include='object')"
   ]
  },
  {
   "cell_type": "code",
   "execution_count": 42,
   "id": "99bc6b6b",
   "metadata": {},
   "outputs": [
    {
     "data": {
      "text/html": [
       "<div>\n",
       "<style scoped>\n",
       "    .dataframe tbody tr th:only-of-type {\n",
       "        vertical-align: middle;\n",
       "    }\n",
       "\n",
       "    .dataframe tbody tr th {\n",
       "        vertical-align: top;\n",
       "    }\n",
       "\n",
       "    .dataframe thead th {\n",
       "        text-align: right;\n",
       "    }\n",
       "</style>\n",
       "<table border=\"1\" class=\"dataframe\">\n",
       "  <thead>\n",
       "    <tr style=\"text-align: right;\">\n",
       "      <th></th>\n",
       "      <th>Entity</th>\n",
       "      <th>Code</th>\n",
       "    </tr>\n",
       "  </thead>\n",
       "  <tbody>\n",
       "    <tr>\n",
       "      <th>count</th>\n",
       "      <td>186</td>\n",
       "      <td>186</td>\n",
       "    </tr>\n",
       "    <tr>\n",
       "      <th>unique</th>\n",
       "      <td>186</td>\n",
       "      <td>186</td>\n",
       "    </tr>\n",
       "    <tr>\n",
       "      <th>top</th>\n",
       "      <td>Albania</td>\n",
       "      <td>ALB</td>\n",
       "    </tr>\n",
       "    <tr>\n",
       "      <th>freq</th>\n",
       "      <td>1</td>\n",
       "      <td>1</td>\n",
       "    </tr>\n",
       "  </tbody>\n",
       "</table>\n",
       "</div>"
      ],
      "text/plain": [
       "         Entity Code\n",
       "count       186  186\n",
       "unique      186  186\n",
       "top     Albania  ALB\n",
       "freq          1    1"
      ]
     },
     "execution_count": 42,
     "metadata": {},
     "output_type": "execute_result"
    }
   ],
   "source": [
    "mwgt.describe(include='object')"
   ]
  },
  {
   "cell_type": "code",
   "execution_count": 43,
   "id": "69d58cf4",
   "metadata": {},
   "outputs": [
    {
     "data": {
      "text/html": [
       "<div>\n",
       "<style scoped>\n",
       "    .dataframe tbody tr th:only-of-type {\n",
       "        vertical-align: middle;\n",
       "    }\n",
       "\n",
       "    .dataframe tbody tr th {\n",
       "        vertical-align: top;\n",
       "    }\n",
       "\n",
       "    .dataframe thead th {\n",
       "        text-align: right;\n",
       "    }\n",
       "</style>\n",
       "<table border=\"1\" class=\"dataframe\">\n",
       "  <thead>\n",
       "    <tr style=\"text-align: right;\">\n",
       "      <th></th>\n",
       "      <th>Entity</th>\n",
       "      <th>Code</th>\n",
       "      <th>Continent</th>\n",
       "    </tr>\n",
       "  </thead>\n",
       "  <tbody>\n",
       "    <tr>\n",
       "      <th>count</th>\n",
       "      <td>48168</td>\n",
       "      <td>46154</td>\n",
       "      <td>285</td>\n",
       "    </tr>\n",
       "    <tr>\n",
       "      <th>unique</th>\n",
       "      <td>337</td>\n",
       "      <td>286</td>\n",
       "      <td>7</td>\n",
       "    </tr>\n",
       "    <tr>\n",
       "      <th>top</th>\n",
       "      <td>Lithuania</td>\n",
       "      <td>MWI</td>\n",
       "      <td>Europe</td>\n",
       "    </tr>\n",
       "    <tr>\n",
       "      <th>freq</th>\n",
       "      <td>220</td>\n",
       "      <td>220</td>\n",
       "      <td>75</td>\n",
       "    </tr>\n",
       "  </tbody>\n",
       "</table>\n",
       "</div>"
      ],
      "text/plain": [
       "           Entity   Code Continent\n",
       "count       48168  46154       285\n",
       "unique        337    286         7\n",
       "top     Lithuania    MWI    Europe\n",
       "freq          220    220        75"
      ]
     },
     "execution_count": 43,
     "metadata": {},
     "output_type": "execute_result"
    }
   ],
   "source": [
    "mpw_gdp.describe(include='object')"
   ]
  },
  {
   "cell_type": "code",
   "execution_count": 44,
   "id": "279f229f",
   "metadata": {},
   "outputs": [
    {
     "data": {
      "text/html": [
       "<div>\n",
       "<style scoped>\n",
       "    .dataframe tbody tr th:only-of-type {\n",
       "        vertical-align: middle;\n",
       "    }\n",
       "\n",
       "    .dataframe tbody tr th {\n",
       "        vertical-align: top;\n",
       "    }\n",
       "\n",
       "    .dataframe thead th {\n",
       "        text-align: right;\n",
       "    }\n",
       "</style>\n",
       "<table border=\"1\" class=\"dataframe\">\n",
       "  <thead>\n",
       "    <tr style=\"text-align: right;\">\n",
       "      <th></th>\n",
       "      <th>Entity</th>\n",
       "      <th>Code</th>\n",
       "      <th>Continent</th>\n",
       "    </tr>\n",
       "  </thead>\n",
       "  <tbody>\n",
       "    <tr>\n",
       "      <th>count</th>\n",
       "      <td>48168</td>\n",
       "      <td>46154</td>\n",
       "      <td>285</td>\n",
       "    </tr>\n",
       "    <tr>\n",
       "      <th>unique</th>\n",
       "      <td>337</td>\n",
       "      <td>286</td>\n",
       "      <td>7</td>\n",
       "    </tr>\n",
       "    <tr>\n",
       "      <th>top</th>\n",
       "      <td>Lithuania</td>\n",
       "      <td>MWI</td>\n",
       "      <td>Europe</td>\n",
       "    </tr>\n",
       "    <tr>\n",
       "      <th>freq</th>\n",
       "      <td>220</td>\n",
       "      <td>220</td>\n",
       "      <td>75</td>\n",
       "    </tr>\n",
       "  </tbody>\n",
       "</table>\n",
       "</div>"
      ],
      "text/plain": [
       "           Entity   Code Continent\n",
       "count       48168  46154       285\n",
       "unique        337    286         7\n",
       "top     Lithuania    MWI    Europe\n",
       "freq          220    220        75"
      ]
     },
     "execution_count": 44,
     "metadata": {},
     "output_type": "execute_result"
    }
   ],
   "source": [
    "pcpw_gdp.describe(include='object')"
   ]
  },
  {
   "cell_type": "code",
   "execution_count": 45,
   "id": "8bedba93",
   "metadata": {},
   "outputs": [
    {
     "data": {
      "text/html": [
       "<div>\n",
       "<style scoped>\n",
       "    .dataframe tbody tr th:only-of-type {\n",
       "        vertical-align: middle;\n",
       "    }\n",
       "\n",
       "    .dataframe tbody tr th {\n",
       "        vertical-align: top;\n",
       "    }\n",
       "\n",
       "    .dataframe thead th {\n",
       "        text-align: right;\n",
       "    }\n",
       "</style>\n",
       "<table border=\"1\" class=\"dataframe\">\n",
       "  <thead>\n",
       "    <tr style=\"text-align: right;\">\n",
       "      <th></th>\n",
       "      <th>Entity</th>\n",
       "      <th>Code</th>\n",
       "    </tr>\n",
       "  </thead>\n",
       "  <tbody>\n",
       "    <tr>\n",
       "      <th>count</th>\n",
       "      <td>186</td>\n",
       "      <td>186</td>\n",
       "    </tr>\n",
       "    <tr>\n",
       "      <th>unique</th>\n",
       "      <td>186</td>\n",
       "      <td>186</td>\n",
       "    </tr>\n",
       "    <tr>\n",
       "      <th>top</th>\n",
       "      <td>Albania</td>\n",
       "      <td>ALB</td>\n",
       "    </tr>\n",
       "    <tr>\n",
       "      <th>freq</th>\n",
       "      <td>1</td>\n",
       "      <td>1</td>\n",
       "    </tr>\n",
       "  </tbody>\n",
       "</table>\n",
       "</div>"
      ],
      "text/plain": [
       "         Entity Code\n",
       "count       186  186\n",
       "unique      186  186\n",
       "top     Albania  ALB\n",
       "freq          1    1"
      ]
     },
     "execution_count": 45,
     "metadata": {},
     "output_type": "execute_result"
    }
   ],
   "source": [
    "pwpc.describe(include='object')"
   ]
  },
  {
   "cell_type": "code",
   "execution_count": 46,
   "id": "9ce71a16",
   "metadata": {},
   "outputs": [],
   "source": [
    "duplicateRows=dataset[dataset.duplicated()]"
   ]
  },
  {
   "cell_type": "code",
   "execution_count": 47,
   "id": "5dce8168",
   "metadata": {},
   "outputs": [
    {
     "data": {
      "text/html": [
       "<div>\n",
       "<style scoped>\n",
       "    .dataframe tbody tr th:only-of-type {\n",
       "        vertical-align: middle;\n",
       "    }\n",
       "\n",
       "    .dataframe tbody tr th {\n",
       "        vertical-align: top;\n",
       "    }\n",
       "\n",
       "    .dataframe thead th {\n",
       "        text-align: right;\n",
       "    }\n",
       "</style>\n",
       "<table border=\"1\" class=\"dataframe\">\n",
       "  <thead>\n",
       "    <tr style=\"text-align: right;\">\n",
       "      <th></th>\n",
       "      <th>Entity</th>\n",
       "      <th>Code</th>\n",
       "      <th>Year</th>\n",
       "      <th>Global plastics production (million tonnes)</th>\n",
       "    </tr>\n",
       "  </thead>\n",
       "  <tbody>\n",
       "  </tbody>\n",
       "</table>\n",
       "</div>"
      ],
      "text/plain": [
       "Empty DataFrame\n",
       "Columns: [Entity, Code, Year, Global plastics production (million tonnes)]\n",
       "Index: []"
      ]
     },
     "execution_count": 47,
     "metadata": {},
     "output_type": "execute_result"
    }
   ],
   "source": [
    "duplicateRows"
   ]
  },
  {
   "cell_type": "code",
   "execution_count": 48,
   "id": "1a88df1e",
   "metadata": {},
   "outputs": [],
   "source": [
    "duplicateRows=mwgt[mwgt.duplicated()]"
   ]
  },
  {
   "cell_type": "code",
   "execution_count": 49,
   "id": "9fd81511",
   "metadata": {},
   "outputs": [
    {
     "data": {
      "text/html": [
       "<div>\n",
       "<style scoped>\n",
       "    .dataframe tbody tr th:only-of-type {\n",
       "        vertical-align: middle;\n",
       "    }\n",
       "\n",
       "    .dataframe tbody tr th {\n",
       "        vertical-align: top;\n",
       "    }\n",
       "\n",
       "    .dataframe thead th {\n",
       "        text-align: right;\n",
       "    }\n",
       "</style>\n",
       "<table border=\"1\" class=\"dataframe\">\n",
       "  <thead>\n",
       "    <tr style=\"text-align: right;\">\n",
       "      <th></th>\n",
       "      <th>Entity</th>\n",
       "      <th>Code</th>\n",
       "      <th>Year</th>\n",
       "      <th>Mismanaged waste (% global total)</th>\n",
       "    </tr>\n",
       "  </thead>\n",
       "  <tbody>\n",
       "  </tbody>\n",
       "</table>\n",
       "</div>"
      ],
      "text/plain": [
       "Empty DataFrame\n",
       "Columns: [Entity, Code, Year, Mismanaged waste (% global total)]\n",
       "Index: []"
      ]
     },
     "execution_count": 49,
     "metadata": {},
     "output_type": "execute_result"
    }
   ],
   "source": [
    "duplicateRows"
   ]
  },
  {
   "cell_type": "code",
   "execution_count": 50,
   "id": "692a101c",
   "metadata": {},
   "outputs": [],
   "source": [
    "duplicateRows=mpw_gdp[mpw_gdp.duplicated()]"
   ]
  },
  {
   "cell_type": "code",
   "execution_count": 51,
   "id": "ba9e5eff",
   "metadata": {},
   "outputs": [
    {
     "data": {
      "text/html": [
       "<div>\n",
       "<style scoped>\n",
       "    .dataframe tbody tr th:only-of-type {\n",
       "        vertical-align: middle;\n",
       "    }\n",
       "\n",
       "    .dataframe tbody tr th {\n",
       "        vertical-align: top;\n",
       "    }\n",
       "\n",
       "    .dataframe thead th {\n",
       "        text-align: right;\n",
       "    }\n",
       "</style>\n",
       "<table border=\"1\" class=\"dataframe\">\n",
       "  <thead>\n",
       "    <tr style=\"text-align: right;\">\n",
       "      <th></th>\n",
       "      <th>Entity</th>\n",
       "      <th>Code</th>\n",
       "      <th>Year</th>\n",
       "      <th>Per capita mismanaged plastic waste</th>\n",
       "      <th>GDP per capita, PPP (constant 2011 international $)</th>\n",
       "      <th>Total population (Gapminder, HYDE &amp; UN)</th>\n",
       "      <th>Continent</th>\n",
       "    </tr>\n",
       "  </thead>\n",
       "  <tbody>\n",
       "  </tbody>\n",
       "</table>\n",
       "</div>"
      ],
      "text/plain": [
       "Empty DataFrame\n",
       "Columns: [Entity, Code, Year, Per capita mismanaged plastic waste, GDP per capita, PPP (constant 2011 international $), Total population (Gapminder, HYDE & UN), Continent]\n",
       "Index: []"
      ]
     },
     "execution_count": 51,
     "metadata": {},
     "output_type": "execute_result"
    }
   ],
   "source": [
    "duplicateRows"
   ]
  },
  {
   "cell_type": "code",
   "execution_count": 52,
   "id": "05bc3fee",
   "metadata": {},
   "outputs": [],
   "source": [
    "duplicateRows=pcpw_gdp[pcpw_gdp.duplicated()]"
   ]
  },
  {
   "cell_type": "code",
   "execution_count": 53,
   "id": "04ab4c15",
   "metadata": {},
   "outputs": [
    {
     "data": {
      "text/html": [
       "<div>\n",
       "<style scoped>\n",
       "    .dataframe tbody tr th:only-of-type {\n",
       "        vertical-align: middle;\n",
       "    }\n",
       "\n",
       "    .dataframe tbody tr th {\n",
       "        vertical-align: top;\n",
       "    }\n",
       "\n",
       "    .dataframe thead th {\n",
       "        text-align: right;\n",
       "    }\n",
       "</style>\n",
       "<table border=\"1\" class=\"dataframe\">\n",
       "  <thead>\n",
       "    <tr style=\"text-align: right;\">\n",
       "      <th></th>\n",
       "      <th>Entity</th>\n",
       "      <th>Code</th>\n",
       "      <th>Year</th>\n",
       "      <th>Per capita plastic waste (kg/person/day)</th>\n",
       "      <th>GDP per capita, PPP (constant 2011 international $)</th>\n",
       "      <th>Total population (Gapminder, HYDE &amp; UN)</th>\n",
       "      <th>Continent</th>\n",
       "    </tr>\n",
       "  </thead>\n",
       "  <tbody>\n",
       "  </tbody>\n",
       "</table>\n",
       "</div>"
      ],
      "text/plain": [
       "Empty DataFrame\n",
       "Columns: [Entity, Code, Year, Per capita plastic waste (kg/person/day), GDP per capita, PPP (constant 2011 international $), Total population (Gapminder, HYDE & UN), Continent]\n",
       "Index: []"
      ]
     },
     "execution_count": 53,
     "metadata": {},
     "output_type": "execute_result"
    }
   ],
   "source": [
    "duplicateRows"
   ]
  },
  {
   "cell_type": "code",
   "execution_count": 54,
   "id": "c3e2fd49",
   "metadata": {},
   "outputs": [],
   "source": [
    "duplicateRows=pwpc[pwpc.duplicated()]"
   ]
  },
  {
   "cell_type": "code",
   "execution_count": 55,
   "id": "1a15af51",
   "metadata": {},
   "outputs": [
    {
     "data": {
      "text/html": [
       "<div>\n",
       "<style scoped>\n",
       "    .dataframe tbody tr th:only-of-type {\n",
       "        vertical-align: middle;\n",
       "    }\n",
       "\n",
       "    .dataframe tbody tr th {\n",
       "        vertical-align: top;\n",
       "    }\n",
       "\n",
       "    .dataframe thead th {\n",
       "        text-align: right;\n",
       "    }\n",
       "</style>\n",
       "<table border=\"1\" class=\"dataframe\">\n",
       "  <thead>\n",
       "    <tr style=\"text-align: right;\">\n",
       "      <th></th>\n",
       "      <th>Entity</th>\n",
       "      <th>Code</th>\n",
       "      <th>Year</th>\n",
       "      <th>Per capita plastic waste (kg/person/day)</th>\n",
       "    </tr>\n",
       "  </thead>\n",
       "  <tbody>\n",
       "  </tbody>\n",
       "</table>\n",
       "</div>"
      ],
      "text/plain": [
       "Empty DataFrame\n",
       "Columns: [Entity, Code, Year, Per capita plastic waste (kg/person/day)]\n",
       "Index: []"
      ]
     },
     "execution_count": 55,
     "metadata": {},
     "output_type": "execute_result"
    }
   ],
   "source": [
    "duplicateRows"
   ]
  },
  {
   "cell_type": "code",
   "execution_count": 56,
   "id": "98aafd34",
   "metadata": {},
   "outputs": [
    {
     "data": {
      "text/plain": [
       "Entity                                         False\n",
       "Code                                           False\n",
       "Year                                           False\n",
       "Global plastics production (million tonnes)    False\n",
       "dtype: bool"
      ]
     },
     "execution_count": 56,
     "metadata": {},
     "output_type": "execute_result"
    }
   ],
   "source": [
    "dataset.isna().any()\n"
   ]
  },
  {
   "cell_type": "code",
   "execution_count": 57,
   "id": "e24c324c",
   "metadata": {},
   "outputs": [
    {
     "data": {
      "text/plain": [
       "Entity                                         0\n",
       "Code                                           0\n",
       "Year                                           0\n",
       "Global plastics production (million tonnes)    0\n",
       "dtype: int64"
      ]
     },
     "execution_count": 57,
     "metadata": {},
     "output_type": "execute_result"
    }
   ],
   "source": [
    "dataset.isnull().sum()"
   ]
  },
  {
   "cell_type": "code",
   "execution_count": 58,
   "id": "ea1e42a4",
   "metadata": {},
   "outputs": [
    {
     "data": {
      "text/html": [
       "<div>\n",
       "<style scoped>\n",
       "    .dataframe tbody tr th:only-of-type {\n",
       "        vertical-align: middle;\n",
       "    }\n",
       "\n",
       "    .dataframe tbody tr th {\n",
       "        vertical-align: top;\n",
       "    }\n",
       "\n",
       "    .dataframe thead th {\n",
       "        text-align: right;\n",
       "    }\n",
       "</style>\n",
       "<table border=\"1\" class=\"dataframe\">\n",
       "  <thead>\n",
       "    <tr style=\"text-align: right;\">\n",
       "      <th></th>\n",
       "      <th>Year</th>\n",
       "      <th>Global plastics production (million tonnes)</th>\n",
       "    </tr>\n",
       "  </thead>\n",
       "  <tbody>\n",
       "    <tr>\n",
       "      <th>count</th>\n",
       "      <td>66.000000</td>\n",
       "      <td>6.600000e+01</td>\n",
       "    </tr>\n",
       "    <tr>\n",
       "      <th>mean</th>\n",
       "      <td>1982.500000</td>\n",
       "      <td>1.185303e+08</td>\n",
       "    </tr>\n",
       "    <tr>\n",
       "      <th>std</th>\n",
       "      <td>19.196354</td>\n",
       "      <td>1.126182e+08</td>\n",
       "    </tr>\n",
       "    <tr>\n",
       "      <th>min</th>\n",
       "      <td>1950.000000</td>\n",
       "      <td>2.000000e+06</td>\n",
       "    </tr>\n",
       "    <tr>\n",
       "      <th>25%</th>\n",
       "      <td>1966.250000</td>\n",
       "      <td>2.075000e+07</td>\n",
       "    </tr>\n",
       "    <tr>\n",
       "      <th>50%</th>\n",
       "      <td>1982.500000</td>\n",
       "      <td>7.650000e+07</td>\n",
       "    </tr>\n",
       "    <tr>\n",
       "      <th>75%</th>\n",
       "      <td>1998.750000</td>\n",
       "      <td>1.985000e+08</td>\n",
       "    </tr>\n",
       "    <tr>\n",
       "      <th>max</th>\n",
       "      <td>2015.000000</td>\n",
       "      <td>3.810000e+08</td>\n",
       "    </tr>\n",
       "  </tbody>\n",
       "</table>\n",
       "</div>"
      ],
      "text/plain": [
       "              Year  Global plastics production (million tonnes)\n",
       "count    66.000000                                 6.600000e+01\n",
       "mean   1982.500000                                 1.185303e+08\n",
       "std      19.196354                                 1.126182e+08\n",
       "min    1950.000000                                 2.000000e+06\n",
       "25%    1966.250000                                 2.075000e+07\n",
       "50%    1982.500000                                 7.650000e+07\n",
       "75%    1998.750000                                 1.985000e+08\n",
       "max    2015.000000                                 3.810000e+08"
      ]
     },
     "execution_count": 58,
     "metadata": {},
     "output_type": "execute_result"
    }
   ],
   "source": [
    "dataset.describe()"
   ]
  },
  {
   "cell_type": "code",
   "execution_count": 59,
   "id": "653e7c4c",
   "metadata": {},
   "outputs": [
    {
     "data": {
      "text/plain": [
       "Entity                               False\n",
       "Code                                 False\n",
       "Year                                 False\n",
       "Mismanaged waste (% global total)    False\n",
       "dtype: bool"
      ]
     },
     "execution_count": 59,
     "metadata": {},
     "output_type": "execute_result"
    }
   ],
   "source": [
    "mwgt.isna().any()\n"
   ]
  },
  {
   "cell_type": "code",
   "execution_count": 60,
   "id": "786507fc",
   "metadata": {},
   "outputs": [
    {
     "data": {
      "text/plain": [
       "Entity                               0\n",
       "Code                                 0\n",
       "Year                                 0\n",
       "Mismanaged waste (% global total)    0\n",
       "dtype: int64"
      ]
     },
     "execution_count": 60,
     "metadata": {},
     "output_type": "execute_result"
    }
   ],
   "source": [
    "mwgt.isnull().sum()"
   ]
  },
  {
   "cell_type": "code",
   "execution_count": 61,
   "id": "b2a36522",
   "metadata": {},
   "outputs": [
    {
     "data": {
      "text/html": [
       "<div>\n",
       "<style scoped>\n",
       "    .dataframe tbody tr th:only-of-type {\n",
       "        vertical-align: middle;\n",
       "    }\n",
       "\n",
       "    .dataframe tbody tr th {\n",
       "        vertical-align: top;\n",
       "    }\n",
       "\n",
       "    .dataframe thead th {\n",
       "        text-align: right;\n",
       "    }\n",
       "</style>\n",
       "<table border=\"1\" class=\"dataframe\">\n",
       "  <thead>\n",
       "    <tr style=\"text-align: right;\">\n",
       "      <th></th>\n",
       "      <th>Year</th>\n",
       "      <th>Mismanaged waste (% global total)</th>\n",
       "    </tr>\n",
       "  </thead>\n",
       "  <tbody>\n",
       "    <tr>\n",
       "      <th>count</th>\n",
       "      <td>186.0</td>\n",
       "      <td>186.000000</td>\n",
       "    </tr>\n",
       "    <tr>\n",
       "      <th>mean</th>\n",
       "      <td>2010.0</td>\n",
       "      <td>0.537634</td>\n",
       "    </tr>\n",
       "    <tr>\n",
       "      <th>std</th>\n",
       "      <td>0.0</td>\n",
       "      <td>2.298779</td>\n",
       "    </tr>\n",
       "    <tr>\n",
       "      <th>min</th>\n",
       "      <td>2010.0</td>\n",
       "      <td>0.000000</td>\n",
       "    </tr>\n",
       "    <tr>\n",
       "      <th>25%</th>\n",
       "      <td>2010.0</td>\n",
       "      <td>0.006850</td>\n",
       "    </tr>\n",
       "    <tr>\n",
       "      <th>50%</th>\n",
       "      <td>2010.0</td>\n",
       "      <td>0.050200</td>\n",
       "    </tr>\n",
       "    <tr>\n",
       "      <th>75%</th>\n",
       "      <td>2010.0</td>\n",
       "      <td>0.208175</td>\n",
       "    </tr>\n",
       "    <tr>\n",
       "      <th>max</th>\n",
       "      <td>2010.0</td>\n",
       "      <td>27.696600</td>\n",
       "    </tr>\n",
       "  </tbody>\n",
       "</table>\n",
       "</div>"
      ],
      "text/plain": [
       "         Year  Mismanaged waste (% global total)\n",
       "count   186.0                         186.000000\n",
       "mean   2010.0                           0.537634\n",
       "std       0.0                           2.298779\n",
       "min    2010.0                           0.000000\n",
       "25%    2010.0                           0.006850\n",
       "50%    2010.0                           0.050200\n",
       "75%    2010.0                           0.208175\n",
       "max    2010.0                          27.696600"
      ]
     },
     "execution_count": 61,
     "metadata": {},
     "output_type": "execute_result"
    }
   ],
   "source": [
    "mwgt.describe()"
   ]
  },
  {
   "cell_type": "code",
   "execution_count": 62,
   "id": "349df182",
   "metadata": {},
   "outputs": [
    {
     "data": {
      "text/plain": [
       "Entity                                                 False\n",
       "Code                                                    True\n",
       "Year                                                   False\n",
       "Per capita mismanaged plastic waste                     True\n",
       "GDP per capita, PPP (constant 2011 international $)     True\n",
       "Total population (Gapminder, HYDE & UN)                 True\n",
       "Continent                                               True\n",
       "dtype: bool"
      ]
     },
     "execution_count": 62,
     "metadata": {},
     "output_type": "execute_result"
    }
   ],
   "source": [
    "mpw_gdp.isna().any()\n"
   ]
  },
  {
   "cell_type": "code",
   "execution_count": 63,
   "id": "672355cd",
   "metadata": {},
   "outputs": [
    {
     "data": {
      "text/plain": [
       "Entity                                                     0\n",
       "Code                                                    2014\n",
       "Year                                                       0\n",
       "Per capita mismanaged plastic waste                    47982\n",
       "GDP per capita, PPP (constant 2011 international $)    41761\n",
       "Total population (Gapminder, HYDE & UN)                 1285\n",
       "Continent                                              47883\n",
       "dtype: int64"
      ]
     },
     "execution_count": 63,
     "metadata": {},
     "output_type": "execute_result"
    }
   ],
   "source": [
    "mpw_gdp.isnull().sum()"
   ]
  },
  {
   "cell_type": "code",
   "execution_count": 64,
   "id": "25ff7015",
   "metadata": {},
   "outputs": [
    {
     "data": {
      "text/html": [
       "<div>\n",
       "<style scoped>\n",
       "    .dataframe tbody tr th:only-of-type {\n",
       "        vertical-align: middle;\n",
       "    }\n",
       "\n",
       "    .dataframe tbody tr th {\n",
       "        vertical-align: top;\n",
       "    }\n",
       "\n",
       "    .dataframe thead th {\n",
       "        text-align: right;\n",
       "    }\n",
       "</style>\n",
       "<table border=\"1\" class=\"dataframe\">\n",
       "  <thead>\n",
       "    <tr style=\"text-align: right;\">\n",
       "      <th></th>\n",
       "      <th>Year</th>\n",
       "      <th>Per capita mismanaged plastic waste</th>\n",
       "      <th>GDP per capita, PPP (constant 2011 international $)</th>\n",
       "      <th>Total population (Gapminder, HYDE &amp; UN)</th>\n",
       "    </tr>\n",
       "  </thead>\n",
       "  <tbody>\n",
       "    <tr>\n",
       "      <th>count</th>\n",
       "      <td>48168.000000</td>\n",
       "      <td>186.000000</td>\n",
       "      <td>6407.000000</td>\n",
       "      <td>4.688300e+04</td>\n",
       "    </tr>\n",
       "    <tr>\n",
       "      <th>mean</th>\n",
       "      <td>1903.147442</td>\n",
       "      <td>0.045226</td>\n",
       "      <td>14926.095591</td>\n",
       "      <td>2.982790e+07</td>\n",
       "    </tr>\n",
       "    <tr>\n",
       "      <th>std</th>\n",
       "      <td>315.716839</td>\n",
       "      <td>0.050077</td>\n",
       "      <td>17739.754531</td>\n",
       "      <td>2.530860e+08</td>\n",
       "    </tr>\n",
       "    <tr>\n",
       "      <th>min</th>\n",
       "      <td>-10000.000000</td>\n",
       "      <td>0.001000</td>\n",
       "      <td>247.436540</td>\n",
       "      <td>9.050000e+02</td>\n",
       "    </tr>\n",
       "    <tr>\n",
       "      <th>25%</th>\n",
       "      <td>1859.000000</td>\n",
       "      <td>0.006000</td>\n",
       "      <td>3021.071807</td>\n",
       "      <td>2.017335e+05</td>\n",
       "    </tr>\n",
       "    <tr>\n",
       "      <th>50%</th>\n",
       "      <td>1920.000000</td>\n",
       "      <td>0.032000</td>\n",
       "      <td>8447.264179</td>\n",
       "      <td>1.542937e+06</td>\n",
       "    </tr>\n",
       "    <tr>\n",
       "      <th>75%</th>\n",
       "      <td>1975.000000</td>\n",
       "      <td>0.066000</td>\n",
       "      <td>19607.537075</td>\n",
       "      <td>5.886795e+06</td>\n",
       "    </tr>\n",
       "    <tr>\n",
       "      <th>max</th>\n",
       "      <td>2019.000000</td>\n",
       "      <td>0.299000</td>\n",
       "      <td>135318.754421</td>\n",
       "      <td>7.713468e+09</td>\n",
       "    </tr>\n",
       "  </tbody>\n",
       "</table>\n",
       "</div>"
      ],
      "text/plain": [
       "               Year  Per capita mismanaged plastic waste  \\\n",
       "count  48168.000000                           186.000000   \n",
       "mean    1903.147442                             0.045226   \n",
       "std      315.716839                             0.050077   \n",
       "min   -10000.000000                             0.001000   \n",
       "25%     1859.000000                             0.006000   \n",
       "50%     1920.000000                             0.032000   \n",
       "75%     1975.000000                             0.066000   \n",
       "max     2019.000000                             0.299000   \n",
       "\n",
       "       GDP per capita, PPP (constant 2011 international $)  \\\n",
       "count                                        6407.000000     \n",
       "mean                                        14926.095591     \n",
       "std                                         17739.754531     \n",
       "min                                           247.436540     \n",
       "25%                                          3021.071807     \n",
       "50%                                          8447.264179     \n",
       "75%                                         19607.537075     \n",
       "max                                        135318.754421     \n",
       "\n",
       "       Total population (Gapminder, HYDE & UN)  \n",
       "count                             4.688300e+04  \n",
       "mean                              2.982790e+07  \n",
       "std                               2.530860e+08  \n",
       "min                               9.050000e+02  \n",
       "25%                               2.017335e+05  \n",
       "50%                               1.542937e+06  \n",
       "75%                               5.886795e+06  \n",
       "max                               7.713468e+09  "
      ]
     },
     "execution_count": 64,
     "metadata": {},
     "output_type": "execute_result"
    }
   ],
   "source": [
    "mpw_gdp.describe()"
   ]
  },
  {
   "cell_type": "code",
   "execution_count": 65,
   "id": "520e5a86",
   "metadata": {},
   "outputs": [
    {
     "data": {
      "text/plain": [
       "Entity                                                 False\n",
       "Code                                                    True\n",
       "Year                                                   False\n",
       "Per capita plastic waste (kg/person/day)                True\n",
       "GDP per capita, PPP (constant 2011 international $)     True\n",
       "Total population (Gapminder, HYDE & UN)                 True\n",
       "Continent                                               True\n",
       "dtype: bool"
      ]
     },
     "execution_count": 65,
     "metadata": {},
     "output_type": "execute_result"
    }
   ],
   "source": [
    "pcpw_gdp.isna().any()"
   ]
  },
  {
   "cell_type": "code",
   "execution_count": 66,
   "id": "6a6f7d87",
   "metadata": {},
   "outputs": [
    {
     "data": {
      "text/plain": [
       "Entity                                                     0\n",
       "Code                                                    2014\n",
       "Year                                                       0\n",
       "Per capita plastic waste (kg/person/day)               47982\n",
       "GDP per capita, PPP (constant 2011 international $)    41761\n",
       "Total population (Gapminder, HYDE & UN)                 1285\n",
       "Continent                                              47883\n",
       "dtype: int64"
      ]
     },
     "execution_count": 66,
     "metadata": {},
     "output_type": "execute_result"
    }
   ],
   "source": [
    "pcpw_gdp.isnull().sum()"
   ]
  },
  {
   "cell_type": "code",
   "execution_count": 67,
   "id": "ee4a3087",
   "metadata": {},
   "outputs": [
    {
     "data": {
      "text/html": [
       "<div>\n",
       "<style scoped>\n",
       "    .dataframe tbody tr th:only-of-type {\n",
       "        vertical-align: middle;\n",
       "    }\n",
       "\n",
       "    .dataframe tbody tr th {\n",
       "        vertical-align: top;\n",
       "    }\n",
       "\n",
       "    .dataframe thead th {\n",
       "        text-align: right;\n",
       "    }\n",
       "</style>\n",
       "<table border=\"1\" class=\"dataframe\">\n",
       "  <thead>\n",
       "    <tr style=\"text-align: right;\">\n",
       "      <th></th>\n",
       "      <th>Year</th>\n",
       "      <th>Per capita plastic waste (kg/person/day)</th>\n",
       "      <th>GDP per capita, PPP (constant 2011 international $)</th>\n",
       "      <th>Total population (Gapminder, HYDE &amp; UN)</th>\n",
       "    </tr>\n",
       "  </thead>\n",
       "  <tbody>\n",
       "    <tr>\n",
       "      <th>count</th>\n",
       "      <td>48168.000000</td>\n",
       "      <td>186.000000</td>\n",
       "      <td>6407.000000</td>\n",
       "      <td>4.688300e+04</td>\n",
       "    </tr>\n",
       "    <tr>\n",
       "      <th>mean</th>\n",
       "      <td>1903.147442</td>\n",
       "      <td>0.179812</td>\n",
       "      <td>14926.095591</td>\n",
       "      <td>2.982790e+07</td>\n",
       "    </tr>\n",
       "    <tr>\n",
       "      <th>std</th>\n",
       "      <td>315.716839</td>\n",
       "      <td>0.123006</td>\n",
       "      <td>17739.754531</td>\n",
       "      <td>2.530860e+08</td>\n",
       "    </tr>\n",
       "    <tr>\n",
       "      <th>min</th>\n",
       "      <td>-10000.000000</td>\n",
       "      <td>0.010000</td>\n",
       "      <td>247.436540</td>\n",
       "      <td>9.050000e+02</td>\n",
       "    </tr>\n",
       "    <tr>\n",
       "      <th>25%</th>\n",
       "      <td>1859.000000</td>\n",
       "      <td>0.103000</td>\n",
       "      <td>3021.071807</td>\n",
       "      <td>2.017335e+05</td>\n",
       "    </tr>\n",
       "    <tr>\n",
       "      <th>50%</th>\n",
       "      <td>1920.000000</td>\n",
       "      <td>0.144000</td>\n",
       "      <td>8447.264179</td>\n",
       "      <td>1.542937e+06</td>\n",
       "    </tr>\n",
       "    <tr>\n",
       "      <th>75%</th>\n",
       "      <td>1975.000000</td>\n",
       "      <td>0.252000</td>\n",
       "      <td>19607.537075</td>\n",
       "      <td>5.886795e+06</td>\n",
       "    </tr>\n",
       "    <tr>\n",
       "      <th>max</th>\n",
       "      <td>2019.000000</td>\n",
       "      <td>0.686000</td>\n",
       "      <td>135318.754421</td>\n",
       "      <td>7.713468e+09</td>\n",
       "    </tr>\n",
       "  </tbody>\n",
       "</table>\n",
       "</div>"
      ],
      "text/plain": [
       "               Year  Per capita plastic waste (kg/person/day)  \\\n",
       "count  48168.000000                                186.000000   \n",
       "mean    1903.147442                                  0.179812   \n",
       "std      315.716839                                  0.123006   \n",
       "min   -10000.000000                                  0.010000   \n",
       "25%     1859.000000                                  0.103000   \n",
       "50%     1920.000000                                  0.144000   \n",
       "75%     1975.000000                                  0.252000   \n",
       "max     2019.000000                                  0.686000   \n",
       "\n",
       "       GDP per capita, PPP (constant 2011 international $)  \\\n",
       "count                                        6407.000000     \n",
       "mean                                        14926.095591     \n",
       "std                                         17739.754531     \n",
       "min                                           247.436540     \n",
       "25%                                          3021.071807     \n",
       "50%                                          8447.264179     \n",
       "75%                                         19607.537075     \n",
       "max                                        135318.754421     \n",
       "\n",
       "       Total population (Gapminder, HYDE & UN)  \n",
       "count                             4.688300e+04  \n",
       "mean                              2.982790e+07  \n",
       "std                               2.530860e+08  \n",
       "min                               9.050000e+02  \n",
       "25%                               2.017335e+05  \n",
       "50%                               1.542937e+06  \n",
       "75%                               5.886795e+06  \n",
       "max                               7.713468e+09  "
      ]
     },
     "execution_count": 67,
     "metadata": {},
     "output_type": "execute_result"
    }
   ],
   "source": [
    "pcpw_gdp.describe()"
   ]
  },
  {
   "cell_type": "code",
   "execution_count": 68,
   "id": "d8e9ff7b",
   "metadata": {},
   "outputs": [
    {
     "data": {
      "text/plain": [
       "Entity                                      False\n",
       "Code                                        False\n",
       "Year                                        False\n",
       "Per capita plastic waste (kg/person/day)    False\n",
       "dtype: bool"
      ]
     },
     "execution_count": 68,
     "metadata": {},
     "output_type": "execute_result"
    }
   ],
   "source": [
    "pwpc.isna().any()"
   ]
  },
  {
   "cell_type": "code",
   "execution_count": 69,
   "id": "eda2aab9",
   "metadata": {},
   "outputs": [
    {
     "data": {
      "text/plain": [
       "Entity                                      0\n",
       "Code                                        0\n",
       "Year                                        0\n",
       "Per capita plastic waste (kg/person/day)    0\n",
       "dtype: int64"
      ]
     },
     "execution_count": 69,
     "metadata": {},
     "output_type": "execute_result"
    }
   ],
   "source": [
    "pwpc.isnull().sum()"
   ]
  },
  {
   "cell_type": "code",
   "execution_count": 70,
   "id": "01c072c7",
   "metadata": {},
   "outputs": [
    {
     "data": {
      "text/html": [
       "<div>\n",
       "<style scoped>\n",
       "    .dataframe tbody tr th:only-of-type {\n",
       "        vertical-align: middle;\n",
       "    }\n",
       "\n",
       "    .dataframe tbody tr th {\n",
       "        vertical-align: top;\n",
       "    }\n",
       "\n",
       "    .dataframe thead th {\n",
       "        text-align: right;\n",
       "    }\n",
       "</style>\n",
       "<table border=\"1\" class=\"dataframe\">\n",
       "  <thead>\n",
       "    <tr style=\"text-align: right;\">\n",
       "      <th></th>\n",
       "      <th>Year</th>\n",
       "      <th>Per capita plastic waste (kg/person/day)</th>\n",
       "    </tr>\n",
       "  </thead>\n",
       "  <tbody>\n",
       "    <tr>\n",
       "      <th>count</th>\n",
       "      <td>186.0</td>\n",
       "      <td>186.000000</td>\n",
       "    </tr>\n",
       "    <tr>\n",
       "      <th>mean</th>\n",
       "      <td>2010.0</td>\n",
       "      <td>0.179812</td>\n",
       "    </tr>\n",
       "    <tr>\n",
       "      <th>std</th>\n",
       "      <td>0.0</td>\n",
       "      <td>0.123006</td>\n",
       "    </tr>\n",
       "    <tr>\n",
       "      <th>min</th>\n",
       "      <td>2010.0</td>\n",
       "      <td>0.010000</td>\n",
       "    </tr>\n",
       "    <tr>\n",
       "      <th>25%</th>\n",
       "      <td>2010.0</td>\n",
       "      <td>0.103000</td>\n",
       "    </tr>\n",
       "    <tr>\n",
       "      <th>50%</th>\n",
       "      <td>2010.0</td>\n",
       "      <td>0.144000</td>\n",
       "    </tr>\n",
       "    <tr>\n",
       "      <th>75%</th>\n",
       "      <td>2010.0</td>\n",
       "      <td>0.252000</td>\n",
       "    </tr>\n",
       "    <tr>\n",
       "      <th>max</th>\n",
       "      <td>2010.0</td>\n",
       "      <td>0.686000</td>\n",
       "    </tr>\n",
       "  </tbody>\n",
       "</table>\n",
       "</div>"
      ],
      "text/plain": [
       "         Year  Per capita plastic waste (kg/person/day)\n",
       "count   186.0                                186.000000\n",
       "mean   2010.0                                  0.179812\n",
       "std       0.0                                  0.123006\n",
       "min    2010.0                                  0.010000\n",
       "25%    2010.0                                  0.103000\n",
       "50%    2010.0                                  0.144000\n",
       "75%    2010.0                                  0.252000\n",
       "max    2010.0                                  0.686000"
      ]
     },
     "execution_count": 70,
     "metadata": {},
     "output_type": "execute_result"
    }
   ],
   "source": [
    "pwpc.describe()"
   ]
  }
 ],
 "metadata": {
  "kernelspec": {
   "display_name": "Python 3 (ipykernel)",
   "language": "python",
   "name": "python3"
  },
  "language_info": {
   "codemirror_mode": {
    "name": "ipython",
    "version": 3
   },
   "file_extension": ".py",
   "mimetype": "text/x-python",
   "name": "python",
   "nbconvert_exporter": "python",
   "pygments_lexer": "ipython3",
   "version": "3.11.5"
  }
 },
 "nbformat": 4,
 "nbformat_minor": 5
}
